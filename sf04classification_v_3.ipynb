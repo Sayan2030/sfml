{
 "cells": [
  {
   "cell_type": "code",
   "execution_count": 1,
   "metadata": {},
   "outputs": [],
   "source": [
   "#Команда Alexandr Sayankin <Alexandr.Sayankin@erg.kz>; Vladislav Sukharev <Vladislav.Sukharev@erg.kz>" 
    "from sklearn.linear_model import LogisticRegression\n",
    "from sklearn.model_selection import train_test_split, cross_val_score, GridSearchCV\n",
    "from sklearn.metrics import roc_auc_score\n",
    "import pandas as pd\n",
    "import numpy as np"
   ]
  },
  {
   "cell_type": "code",
   "execution_count": 2,
   "metadata": {},
   "outputs": [],
   "source": [
    "# данные\n",
    "data_train = pd.read_csv('train.csv')\n",
    "data_test = pd.read_csv('test.csv')"
   ]
  },
  {
   "cell_type": "markdown",
   "metadata": {},
   "source": [
    "### Предподготовка данных"
   ]
  },
  {
   "cell_type": "code",
   "execution_count": 51,
   "metadata": {},
   "outputs": [],
   "source": [
    "# соединяем data_train и data_test\n",
    "train_index = len(data_train)\n",
    "y = data_train['target']\n",
    "data = pd.concat([data_train.drop(labels = ['_id', 'target'], axis = 1), data_test.drop(labels = ['_id'], axis = 1)])"
   ]
  },
  {
   "cell_type": "code",
   "execution_count": 52,
   "metadata": {},
   "outputs": [],
   "source": [
    "# удаляем из data столбцы month, day_of_week\n",
    "data.drop(labels = ['month', 'day_of_week'], axis = 1, inplace = True)"
   ]
  },
  {
   "cell_type": "code",
   "execution_count": 53,
   "metadata": {},
   "outputs": [],
   "source": [
    "# выделяем категориальные и числовые признаки\n",
    "categorical_columns = [c for c in data.columns if data[c].dtype.name == 'object']\n",
    "numerical_columns = [c for c in data.columns if data[c].dtype.name != 'object']"
   ]
  },
  {
   "cell_type": "code",
   "execution_count": 54,
   "metadata": {},
   "outputs": [],
   "source": [
    "# get_dummies\n",
    "data = pd.concat([data.drop(labels = categorical_columns, axis = 1), pd.get_dummies(data[categorical_columns])], axis = 1)"
   ]
  },
  {
   "cell_type": "code",
   "execution_count": 55,
   "metadata": {},
   "outputs": [],
   "source": [
    "# pdays = 999 or pdays != 999 indicator\n",
    "def my_f(n):\n",
    "    if n == 999:\n",
    "        return 1\n",
    "    else:\n",
    "        return 0\n",
    "\n",
    "data['pdays_ind'] = data['pdays'].apply(my_f)"
   ]
  },
  {
   "cell_type": "code",
   "execution_count": 57,
   "metadata": {},
   "outputs": [],
   "source": [
    "data.drop(labels = 'pdays', axis = 1, inplace = True)"
   ]
  },
  {
   "cell_type": "code",
   "execution_count": 58,
   "metadata": {},
   "outputs": [],
   "source": [
    "# отмасштабируем числовые признаки X = (X- X_mean)/X_std\n",
    "numerical_columns.remove('pdays')\n",
    "data_num = data[numerical_columns]\n",
    "data_num = (data_num - data_num.mean()) / data_num.std()\n",
    "data = pd.concat([data.drop(labels = numerical_columns, axis = 1), data_num], axis = 1)"
   ]
  },
  {
   "cell_type": "code",
   "execution_count": 59,
   "metadata": {},
   "outputs": [],
   "source": [
    "# train, test\n",
    "train = data[:train_index]\n",
    "test = data[train_index:]"
   ]
  },
  {
   "cell_type": "code",
   "execution_count": 60,
   "metadata": {},
   "outputs": [],
   "source": [
    "X_train, X_holdout, y_train, y_holdout = train_test_split(train, y, test_size=0.2, random_state=17,\n",
    "                                                         shuffle = True, stratify = y)"
   ]
  },
  {
   "cell_type": "markdown",
   "metadata": {},
   "source": [
    "### Обучение"
   ]
  },
  {
   "cell_type": "code",
   "execution_count": 61,
   "metadata": {},
   "outputs": [],
   "source": [
    "lr = LogisticRegression(random_state = 42)"
   ]
  },
  {
   "cell_type": "code",
   "execution_count": 91,
   "metadata": {},
   "outputs": [],
   "source": [
    "# hyperparametrs \n",
    "\n",
    "# LogisticRegression(penalty=’l2’, dual=False, tol=0.0001, C=1.0, fit_intercept=True, \n",
    "# intercept_scaling=1, class_weight=None, random_state=None, solver=’liblinear’, \n",
    "# max_iter=100, multi_class=’ovr’, verbose=0, warm_start=False, n_jobs=1)\n",
    "\n",
    "tol = np.arange(0.001, 0.011, 0.001)\n",
    "C = np.logspace(0, 3, 100)\n",
    "max_iter = np.arange(100, 110, 20)\n",
    "\n",
    "hyper_param = {\n",
    "    'tol': tol,\n",
    "    'C': C,\n",
    "    'max_iter': max_iter\n",
    "}"
   ]
  },
  {
   "cell_type": "code",
   "execution_count": 92,
   "metadata": {},
   "outputs": [],
   "source": [
    "# GridSearchCV\n",
    "clf = GridSearchCV(lr, hyper_param, scoring = 'roc_auc', cv = 5, n_jobs = -1, verbose = True)"
   ]
  },
  {
   "cell_type": "code",
   "execution_count": 93,
   "metadata": {},
   "outputs": [
    {
     "name": "stdout",
     "output_type": "stream",
     "text": [
      "Fitting 5 folds for each of 1000 candidates, totalling 5000 fits\n"
     ]
    },
    {
     "name": "stderr",
     "output_type": "stream",
     "text": [
      "[Parallel(n_jobs=-1)]: Done  42 tasks      | elapsed:   12.9s\n",
      "[Parallel(n_jobs=-1)]: Done 192 tasks      | elapsed:   25.5s\n",
      "[Parallel(n_jobs=-1)]: Done 442 tasks      | elapsed:   48.3s\n",
      "[Parallel(n_jobs=-1)]: Done 792 tasks      | elapsed:  1.3min\n",
      "[Parallel(n_jobs=-1)]: Done 1242 tasks      | elapsed:  2.1min\n",
      "[Parallel(n_jobs=-1)]: Done 1792 tasks      | elapsed:  3.0min\n",
      "[Parallel(n_jobs=-1)]: Done 2442 tasks      | elapsed:  3.9min\n",
      "[Parallel(n_jobs=-1)]: Done 3192 tasks      | elapsed:  5.0min\n",
      "[Parallel(n_jobs=-1)]: Done 4042 tasks      | elapsed:  6.2min\n",
      "[Parallel(n_jobs=-1)]: Done 4992 tasks      | elapsed:  7.5min\n",
      "[Parallel(n_jobs=-1)]: Done 5000 out of 5000 | elapsed:  7.5min finished\n"
     ]
    }
   ],
   "source": [
    "# best model\n",
    "best_model = clf.fit(X_train, y_train)"
   ]
  },
  {
   "cell_type": "code",
   "execution_count": 94,
   "metadata": {},
   "outputs": [
    {
     "data": {
      "text/plain": [
       "{'C': 1.321941148466029, 'max_iter': 100, 'tol': 0.006}"
      ]
     },
     "execution_count": 94,
     "metadata": {},
     "output_type": "execute_result"
    }
   ],
   "source": [
    "best_model.best_params_"
   ]
  },
  {
   "cell_type": "code",
   "execution_count": 95,
   "metadata": {},
   "outputs": [
    {
     "name": "stdout",
     "output_type": "stream",
     "text": [
      "0.6851603068683528\n"
     ]
    }
   ],
   "source": [
    "y_pred_holdout = best_model.predict(X_holdout)\n",
    "print(roc_auc_score(y_holdout, y_pred_holdout))"
   ]
  },
  {
   "cell_type": "code",
   "execution_count": null,
   "metadata": {},
   "outputs": [],
   "source": [
    "{'C': 2.7825594022071245, 'max_iter': 100, 'tol': 0.01}\n",
    "0.6842626408001304"
   ]
  }
 ],
 "metadata": {
  "kernelspec": {
   "display_name": "Python 3",
   "language": "python",
   "name": "python3"
  },
  "language_info": {
   "codemirror_mode": {
    "name": "ipython",
    "version": 3
   },
   "file_extension": ".py",
   "mimetype": "text/x-python",
   "name": "python",
   "nbconvert_exporter": "python",
   "pygments_lexer": "ipython3",
   "version": "3.6.5"
  }
 },
 "nbformat": 4,
 "nbformat_minor": 2
}
